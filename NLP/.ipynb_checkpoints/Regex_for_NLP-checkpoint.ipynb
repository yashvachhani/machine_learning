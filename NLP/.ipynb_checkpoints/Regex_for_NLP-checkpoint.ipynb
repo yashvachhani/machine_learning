{
 "cells": [
  {
   "cell_type": "code",
   "execution_count": 1,
   "id": "c5a09141-c308-472e-8ae2-0ec97d6a75d9",
   "metadata": {},
   "outputs": [],
   "source": [
    "import re"
   ]
  },
  {
   "cell_type": "code",
   "execution_count": 2,
   "id": "bdcb2308-a1ba-46d7-b9f6-25b5da033df1",
   "metadata": {},
   "outputs": [],
   "source": [
    "chat1 = 'codebasics: you ask lot of Questions 1234567894, abc@vf.com'\n",
    "chat2 = 'codebasics: here it is: (123)-567-8763, adfbc@vbf.com'\n",
    "chat3 = 'codebasics: yes, phone: 1234576643 email: abyr@jhf.com'"
   ]
  },
  {
   "cell_type": "code",
   "execution_count": 9,
   "id": "a501a6ed-7b2a-49ff-895f-f98f421db42e",
   "metadata": {},
   "outputs": [
    {
     "data": {
      "text/plain": [
       "['1234576643', 'abyr@jhf.com']"
      ]
     },
     "execution_count": 9,
     "metadata": {},
     "output_type": "execute_result"
    }
   ],
   "source": [
    "pattern = '\\d{10}|\\(\\d{3}\\)-\\d{3}-\\d{4}|[a-zA-Z0-9_]*@[a-zA-Z0-9]*\\.[a-zA-Z]*'\n",
    "matches=re.findall(pattern,chat3)\n",
    "matches"
   ]
  },
  {
   "cell_type": "code",
   "execution_count": null,
   "id": "76a57c90-d66c-4fd0-872e-88065aa56494",
   "metadata": {},
   "outputs": [],
   "source": [
    "pattern = 'order'"
   ]
  }
 ],
 "metadata": {
  "kernelspec": {
   "display_name": "default:Python",
   "language": "python",
   "name": "conda-env-default-py"
  },
  "language_info": {
   "codemirror_mode": {
    "name": "ipython",
    "version": 3
   },
   "file_extension": ".py",
   "mimetype": "text/x-python",
   "name": "python",
   "nbconvert_exporter": "python",
   "pygments_lexer": "ipython3",
   "version": "3.9.12"
  }
 },
 "nbformat": 4,
 "nbformat_minor": 5
}
