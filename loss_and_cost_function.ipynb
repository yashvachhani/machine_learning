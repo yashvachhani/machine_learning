{
 "cells": [
  {
   "cell_type": "code",
   "execution_count": 5,
   "id": "96bc0a35",
   "metadata": {},
   "outputs": [],
   "source": [
    "import numpy as np\n",
    "\n",
    "y_predicted = np.array([1,1,0,0,1,0,1,0,0,1])\n",
    "y_true = np.array([0.30,0.70,1,0,0.5,0.3,0.8,0.7,0.2,0.4])"
   ]
  },
  {
   "cell_type": "code",
   "execution_count": 19,
   "id": "1c19237f",
   "metadata": {},
   "outputs": [],
   "source": [
    "# mean absolute error\n",
    "def mae(y_true,y_predicted):\n",
    "    total_error = 0\n",
    "    for yt, yp in zip(y_true,y_predicted):\n",
    "        total_error += np.abs(yt - yp)\n",
    "    print(f\"total error: {total_error}\")\n",
    "    \n",
    "    mae = total_error / len(y_true)\n",
    "    print(f\"mean absolute error : {mae}\")\n",
    "    return mae"
   ]
  },
  {
   "cell_type": "code",
   "execution_count": 20,
   "id": "6cfd6d7e",
   "metadata": {},
   "outputs": [
    {
     "name": "stdout",
     "output_type": "stream",
     "text": [
      "total error: 4.5\n",
      "mean absolute error : 0.45\n"
     ]
    },
    {
     "data": {
      "text/plain": [
       "0.45"
      ]
     },
     "execution_count": 20,
     "metadata": {},
     "output_type": "execute_result"
    }
   ],
   "source": [
    "mae(y_true,y_predicted)"
   ]
  },
  {
   "cell_type": "code",
   "execution_count": 22,
   "id": "73b1e5e8",
   "metadata": {},
   "outputs": [
    {
     "data": {
      "text/plain": [
       "0.45"
      ]
     },
     "execution_count": 22,
     "metadata": {},
     "output_type": "execute_result"
    }
   ],
   "source": [
    "# mean absolute error in one line using numpy\n",
    "np.mean(np.abs(y_predicted-y_true))"
   ]
  },
  {
   "cell_type": "code",
   "execution_count": 46,
   "id": "e9227c98",
   "metadata": {},
   "outputs": [
    {
     "data": {
      "text/plain": [
       "0.28500000000000003"
      ]
     },
     "execution_count": 46,
     "metadata": {},
     "output_type": "execute_result"
    }
   ],
   "source": [
    "# mean square error in one line using numpy\n",
    "np.mean(np.square(y_predicted-y_true))"
   ]
  },
  {
   "cell_type": "code",
   "execution_count": 27,
   "id": "217194e9",
   "metadata": {},
   "outputs": [
    {
     "data": {
      "text/plain": [
       "array([-48.35428695])"
      ]
     },
     "execution_count": 27,
     "metadata": {},
     "output_type": "execute_result"
    }
   ],
   "source": [
    "np.log([0.000000000000000000001])"
   ]
  },
  {
   "cell_type": "code",
   "execution_count": 37,
   "id": "be3e28ff",
   "metadata": {},
   "outputs": [
    {
     "data": {
      "text/plain": [
       "1e-15"
      ]
     },
     "execution_count": 37,
     "metadata": {},
     "output_type": "execute_result"
    }
   ],
   "source": [
    "epsilon = 1e-15\n",
    "epsilon"
   ]
  },
  {
   "cell_type": "code",
   "execution_count": 30,
   "id": "d0a59672",
   "metadata": {},
   "outputs": [],
   "source": [
    "y_predicted_new = [max(i,epsilon) for i in y_predicted]"
   ]
  },
  {
   "cell_type": "code",
   "execution_count": 31,
   "id": "3002b45f",
   "metadata": {},
   "outputs": [
    {
     "data": {
      "text/plain": [
       "[0.999999999999999,\n",
       " 0.999999999999999,\n",
       " 1e-15,\n",
       " 1e-15,\n",
       " 0.999999999999999,\n",
       " 1e-15,\n",
       " 0.999999999999999,\n",
       " 1e-15,\n",
       " 1e-15,\n",
       " 0.999999999999999]"
      ]
     },
     "execution_count": 31,
     "metadata": {},
     "output_type": "execute_result"
    }
   ],
   "source": [
    "y_predicted_new = [min(i,1-epsilon) for i in y_predicted_new]\n",
    "y_predicted_new"
   ]
  },
  {
   "cell_type": "code",
   "execution_count": 32,
   "id": "c7ef301e",
   "metadata": {},
   "outputs": [
    {
     "data": {
      "text/plain": [
       "array([1.e+00, 1.e+00, 1.e-15, 1.e-15, 1.e+00, 1.e-15, 1.e+00, 1.e-15,\n",
       "       1.e-15, 1.e+00])"
      ]
     },
     "execution_count": 32,
     "metadata": {},
     "output_type": "execute_result"
    }
   ],
   "source": [
    "y_predicted_new = np.array(y_predicted_new)\n",
    "y_predicted_new"
   ]
  },
  {
   "cell_type": "code",
   "execution_count": 33,
   "id": "ccfb2b8e",
   "metadata": {},
   "outputs": [
    {
     "data": {
      "text/plain": [
       "array([-9.99200722e-16, -9.99200722e-16, -3.45387764e+01, -3.45387764e+01,\n",
       "       -9.99200722e-16, -3.45387764e+01, -9.99200722e-16, -3.45387764e+01,\n",
       "       -3.45387764e+01, -9.99200722e-16])"
      ]
     },
     "execution_count": 33,
     "metadata": {},
     "output_type": "execute_result"
    }
   ],
   "source": [
    "np.log(y_predicted_new)"
   ]
  },
  {
   "cell_type": "code",
   "execution_count": 34,
   "id": "83622f3e",
   "metadata": {},
   "outputs": [
    {
     "data": {
      "text/plain": [
       "15.54263328511875"
      ]
     },
     "execution_count": 34,
     "metadata": {},
     "output_type": "execute_result"
    }
   ],
   "source": [
    "-np.mean(y_true*np.log(y_predicted_new)+(1-y_true)*np.log(1-y_predicted_new))"
   ]
  },
  {
   "cell_type": "code",
   "execution_count": 44,
   "id": "04ea0968",
   "metadata": {},
   "outputs": [],
   "source": [
    "# log loss error count\n",
    "def log_loss(y_true,y_predicted):\n",
    "    # replace 0 to close value of zero\n",
    "    y_predicted_new = [max(i,epsilon) for i in y_predicted]\n",
    "    # replace 1 to close value of one\n",
    "    y_predicted_new = [min(i,1-epsilon) for i in y_predicted_new]\n",
    "    # we can not apply log loss diractly to the list so we have to convert numpy array\n",
    "    y_predicted_new = np.array(y_predicted_new)\n",
    "    return -np.mean(y_true*np.log(y_predicted_new)+(1-y_true)*np.log(1-y_predicted_new))"
   ]
  },
  {
   "cell_type": "code",
   "execution_count": 45,
   "id": "6f507a5b",
   "metadata": {},
   "outputs": [
    {
     "data": {
      "text/plain": [
       "15.54263328511875"
      ]
     },
     "execution_count": 45,
     "metadata": {},
     "output_type": "execute_result"
    }
   ],
   "source": [
    "log_loss(y_true,y_predicted)"
   ]
  },
  {
   "cell_type": "code",
   "execution_count": null,
   "id": "f731f250",
   "metadata": {},
   "outputs": [],
   "source": []
  }
 ],
 "metadata": {
  "kernelspec": {
   "display_name": "Python 3",
   "language": "python",
   "name": "python3"
  },
  "language_info": {
   "codemirror_mode": {
    "name": "ipython",
    "version": 3
   },
   "file_extension": ".py",
   "mimetype": "text/x-python",
   "name": "python",
   "nbconvert_exporter": "python",
   "pygments_lexer": "ipython3",
   "version": "3.8.8"
  }
 },
 "nbformat": 4,
 "nbformat_minor": 5
}
